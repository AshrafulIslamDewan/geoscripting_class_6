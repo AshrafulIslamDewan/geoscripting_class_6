{
 "cells": [
  {
   "cell_type": "code",
   "execution_count": 2,
   "id": "5cc11d84-320a-411a-9908-884a35773482",
   "metadata": {},
   "outputs": [
    {
     "name": "stdin",
     "output_type": "stream",
     "text": [
      "enter first number:  65\n",
      "enter second number:  54\n"
     ]
    },
    {
     "name": "stdout",
     "output_type": "stream",
     "text": [
      "result is:  11\n"
     ]
    }
   ],
   "source": [
    "num1= input(\"enter first number: \")\n",
    "num2= input(\"enter second number: \")\n",
    "sub= int(num1)-int(num2)\n",
    "print(\"result is: \", sub)"
   ]
  },
  {
   "cell_type": "code",
   "execution_count": 3,
   "id": "6fced017-f0dc-460b-887f-b075ca08a0ad",
   "metadata": {},
   "outputs": [
    {
     "name": "stdin",
     "output_type": "stream",
     "text": [
      "enter first number:  5\n",
      "enter second number:  2\n"
     ]
    },
    {
     "name": "stdout",
     "output_type": "stream",
     "text": [
      "result is:  1\n"
     ]
    }
   ],
   "source": [
    "num1= input(\"enter first number: \")\n",
    "num2= input(\"enter second number: \")\n",
    "modulo = int(num1)% int(num2)\n",
    "print(\"result is: \", modulo)"
   ]
  },
  {
   "cell_type": "code",
   "execution_count": 7,
   "id": "b0bf40ae-ed8b-4c63-a97a-407fd28e6e38",
   "metadata": {},
   "outputs": [
    {
     "name": "stdin",
     "output_type": "stream",
     "text": [
      "enter age:  30\n"
     ]
    },
    {
     "name": "stdout",
     "output_type": "stream",
     "text": [
      "senior\n"
     ]
    }
   ],
   "source": [
    "age=int(input(\"enter age: \"))\n",
    "if age>=30:\n",
    "    print(\"senior\")\n",
    "else:\n",
    "    print(\"junior\")"
   ]
  },
  {
   "cell_type": "code",
   "execution_count": 12,
   "id": "bdcf922f-5e74-4898-86f1-a3e62f97333b",
   "metadata": {},
   "outputs": [
    {
     "name": "stdin",
     "output_type": "stream",
     "text": [
      "Enter the mark:  67\n"
     ]
    },
    {
     "name": "stdout",
     "output_type": "stream",
     "text": [
      "Bad student\n"
     ]
    }
   ],
   "source": [
    "num=int(input(\"Enter the mark: \"))\n",
    "if num>= 80:\n",
    "        print(\"A+\")\n",
    "else:\n",
    "        print(\"Bad student\")\n"
   ]
  },
  {
   "cell_type": "code",
   "execution_count": 17,
   "id": "6c1d33af-1226-4937-99f4-ceb215f81ee5",
   "metadata": {},
   "outputs": [
    {
     "name": "stdout",
     "output_type": "stream",
     "text": [
      "Is the name 'Bashar' a girl's name? Yes\n"
     ]
    }
   ],
   "source": [
    "# Jupyter Notebook cell\n",
    "\n",
    "def is_girls_name(name):\n",
    "    \"\"\"\n",
    "    Check if the given name is typically a girl's name.\n",
    "    \n",
    "    Parameters:\n",
    "    name (str): The name to check.\n",
    "    \n",
    "    Returns:\n",
    "    bool: True if the name is typically a girl's name, False otherwise.\n",
    "    \"\"\"\n",
    "    girls_names = {\"Alice\", \"Sophia\", \"Emma\", \"Olivia\", \"Ava\", \"Isabella\", \"Bashar\"}  # Example list of girl's names\n",
    "    return name in girls_names\n",
    "\n",
    "# Test the function with the name \"Bashar\"\n",
    "name_to_check = \"Bashar\"\n",
    "is_girl = is_girls_name(name_to_check)\n",
    "\n",
    "print(f\"Is the name '{name_to_check}' a girl's name? {'Yes' if is_girl else 'No'}\")\n"
   ]
  },
  {
   "cell_type": "code",
   "execution_count": null,
   "id": "6df47b0e-0c41-407a-a394-76393ab901b4",
   "metadata": {},
   "outputs": [],
   "source": []
  }
 ],
 "metadata": {
  "kernelspec": {
   "display_name": "Python 3 (ipykernel)",
   "language": "python",
   "name": "python3"
  },
  "language_info": {
   "codemirror_mode": {
    "name": "ipython",
    "version": 3
   },
   "file_extension": ".py",
   "mimetype": "text/x-python",
   "name": "python",
   "nbconvert_exporter": "python",
   "pygments_lexer": "ipython3",
   "version": "3.11.7"
  }
 },
 "nbformat": 4,
 "nbformat_minor": 5
}
