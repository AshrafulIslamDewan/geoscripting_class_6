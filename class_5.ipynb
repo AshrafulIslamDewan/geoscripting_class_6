{
 "cells": [
  {
   "cell_type": "code",
   "execution_count": 1,
   "id": "1564a71c-3ae0-4ea1-a162-bc1d0da8e255",
   "metadata": {},
   "outputs": [
    {
     "name": "stdout",
     "output_type": "stream",
     "text": [
      "90\n"
     ]
    }
   ],
   "source": [
    "examnumber= [23,56,87,90,78,66,45]\n",
    "maxnumber=max(examnumber)\n",
    "print(maxnumber)"
   ]
  },
  {
   "cell_type": "code",
   "execution_count": 2,
   "id": "1d6a6d86-75d4-4b75-911b-6bb2ee4e5da2",
   "metadata": {},
   "outputs": [
    {
     "name": "stdout",
     "output_type": "stream",
     "text": [
      "23\n"
     ]
    }
   ],
   "source": [
    "examnumber= [23,56,87,90,78,66,45]\n",
    "maxnumber=min(examnumber)\n",
    "print(maxnumber)"
   ]
  },
  {
   "cell_type": "code",
   "execution_count": 10,
   "id": "f9bf9e35-855b-44b6-a115-0ce5836cc443",
   "metadata": {},
   "outputs": [
    {
     "name": "stdout",
     "output_type": "stream",
     "text": [
      "78\n",
      "[23, 56, 87, 90, 78]\n"
     ]
    }
   ],
   "source": [
    "examnumber= [23,56,87,90,78,66,45]\n",
    "print(examnumber[4])\n",
    "print(examnumber[0:5])\n"
   ]
  },
  {
   "cell_type": "code",
   "execution_count": 24,
   "id": "486c0771-051f-4cf3-8fad-39a3f9c3a398",
   "metadata": {},
   "outputs": [
    {
     "name": "stdout",
     "output_type": "stream",
     "text": [
      "Abdur Razzak\n",
      "None No found\n",
      "None No found\n"
     ]
    }
   ],
   "source": [
    "studentID = {\n",
    "    \"1831001\" : \"Abdur Razzak\",\n",
    "    \"1831004\" : \"Sourav Kumar\",\n",
    "    \"1831017\" : \"Ashraful Dewan\",\n",
    "    \"186576\" : \"kamrul\",\n",
    "}\n",
    "print(studentID[\"1831001\"])\n",
    "print(studentID.get(\"1831097\"), \"No found\")\n",
    "print(studentID.get(\"1831027\"), \"No found\")\n"
   ]
  },
  {
   "cell_type": "code",
   "execution_count": 30,
   "id": "33ac6ff8-5c84-478d-bd93-87c03efcaaf3",
   "metadata": {},
   "outputs": [
    {
     "name": "stdout",
     "output_type": "stream",
     "text": [
      "(('Razzak', 1831001, 3.45), 'Akhi', 'Saikot', 'Abul Bashar')\n",
      "('Razzak', 1831001, 3.45)\n"
     ]
    }
   ],
   "source": [
    "students= (\n",
    "    (\"Razzak\", 1831001, 3.45),\n",
    "    \"Akhi\", \n",
    "    \"Saikot\",\n",
    "    \"Abul Bashar\",\n",
    ")\n",
    "print(students)"
   ]
  },
  {
   "cell_type": "code",
   "execution_count": 36,
   "id": "77ac2ed0-b626-436c-80c8-f329ab5e976f",
   "metadata": {},
   "outputs": [
    {
     "name": "stdin",
     "output_type": "stream",
     "text": [
      "Enter a name:  Rashid\n"
     ]
    },
    {
     "name": "stdout",
     "output_type": "stream",
     "text": [
      "Hello Rashid\n"
     ]
    }
   ],
   "source": [
    "name = input(\"Enter a name: \")\n",
    "print(f\"Hello {name}\")"
   ]
  },
  {
   "cell_type": "code",
   "execution_count": 43,
   "id": "770b36f3-62f6-45ce-91ca-5a5207b201d7",
   "metadata": {},
   "outputs": [
    {
     "name": "stdin",
     "output_type": "stream",
     "text": [
      "What is your marks in programming? Ans is:  90\n"
     ]
    },
    {
     "name": "stdout",
     "output_type": "stream",
     "text": [
      "You got: A+\n"
     ]
    }
   ],
   "source": [
    "marks = int (input(\"What is your marks in programming? Ans is: \"))\n",
    "def show_grade(grade):\n",
    "    print(f\"You got: {grade}\")\n",
    "if marks >= 80:\n",
    "    show_grade(\"A+\")\n",
    "elif marks < 80 and marks >= 70:\n",
    "    show_grade(\"A\")\n",
    "elif marks < 70 and marks >= 60:\n",
    "    show_grade(\"A-\")\n",
    "elif marks < 60 and marks >= 50:\n",
    "    show_grade(\"B\")\n",
    "elif marks >=33:\n",
    "    show_grade(\"Passed\")\n",
    "else:\n",
    "    show_grade(\"F\")\n",
    "\n",
    "    "
   ]
  },
  {
   "cell_type": "code",
   "execution_count": null,
   "id": "58765754-c6b8-4d4e-a97a-00e96b339b84",
   "metadata": {},
   "outputs": [],
   "source": [
    "with open(\"shakespeare.txt\", mode=\"r\") as s_file:\n",
    "    for line in s_file.readlines():\n",
    "        print(line, end=\"\")\n",
    "        \n"
   ]
  }
 ],
 "metadata": {
  "kernelspec": {
   "display_name": "Python 3 (ipykernel)",
   "language": "python",
   "name": "python3"
  },
  "language_info": {
   "codemirror_mode": {
    "name": "ipython",
    "version": 3
   },
   "file_extension": ".py",
   "mimetype": "text/x-python",
   "name": "python",
   "nbconvert_exporter": "python",
   "pygments_lexer": "ipython3",
   "version": "3.11.7"
  }
 },
 "nbformat": 4,
 "nbformat_minor": 5
}
