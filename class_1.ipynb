{
 "cells": [
  {
   "cell_type": "code",
   "execution_count": 3,
   "id": "e0997e8c-9c1d-41a3-bac2-6752e0fa802f",
   "metadata": {},
   "outputs": [
    {
     "name": "stdin",
     "output_type": "stream",
     "text": [
      "Enter the first number:  77\n",
      "Enter the second number:  54\n"
     ]
    },
    {
     "name": "stdout",
     "output_type": "stream",
     "text": [
      "First number: 77.0\n",
      "Second number: 54.0\n",
      "Difference of the two numbers: 23.0\n"
     ]
    }
   ],
   "source": [
    "# Take two numbers from the user\n",
    "num1 = float(input(\"Enter the first number: \"))\n",
    "num2 = float(input(\"Enter the second number: \"))\n",
    "\n",
    "# Print the numbers\n",
    "print(\"First number:\", num1)\n",
    "print(\"Second number:\", num2)\n",
    "\n",
    "# Calculate the difference\n",
    "difference = num1 - num2\n",
    "\n",
    "# Print the difference\n",
    "print(\"Difference of the two numbers:\", difference)\n"
   ]
  },
  {
   "cell_type": "code",
   "execution_count": 2,
   "id": "b588f532-4bdd-4d67-aa31-6af8ee7ddc9f",
   "metadata": {},
   "outputs": [
    {
     "name": "stdin",
     "output_type": "stream",
     "text": [
      "Enter the first number:  87\n",
      "Enter the second number:  65\n"
     ]
    },
    {
     "name": "stdout",
     "output_type": "stream",
     "text": [
      "First number: 87.0\n",
      "Second number: 65.0\n",
      "Sum of the two numbers: 152.0\n"
     ]
    }
   ],
   "source": [
    "# Take two numbers from the user\n",
    "num1 = float(input(\"Enter the first number: \"))\n",
    "num2 = float(input(\"Enter the second number: \"))\n",
    "\n",
    "# Print the numbers\n",
    "print(\"First number:\", num1)\n",
    "print(\"Second number:\", num2)\n",
    "\n",
    "# Calculate the sum\n",
    "sum = num1 + num2\n",
    "\n",
    "# Print the sum\n",
    "print(\"Sum of the two numbers:\", sum)\n"
   ]
  },
  {
   "cell_type": "code",
   "execution_count": 1,
   "id": "a4ddb326-f2a2-4490-9349-6981377df4c0",
   "metadata": {},
   "outputs": [
    {
     "name": "stdin",
     "output_type": "stream",
     "text": [
      "Enter the first number:  98\n",
      "Enter the second number:  45\n"
     ]
    },
    {
     "name": "stdout",
     "output_type": "stream",
     "text": [
      "First number: 98.0\n",
      "Second number: 45.0\n",
      "Multiplicative value of the two numbers: 4410.0\n"
     ]
    }
   ],
   "source": [
    "# Take two numbers from the user\n",
    "num1 = float(input(\"Enter the first number: \"))\n",
    "num2 = float(input(\"Enter the second number: \"))\n",
    "\n",
    "# Print the numbers\n",
    "print(\"First number:\", num1)\n",
    "print(\"Second number:\", num2)\n",
    "\n",
    "# Calculate the product\n",
    "product = num1 * num2\n",
    "\n",
    "# Print the product\n",
    "print(\"Multiplicative value of the two numbers:\", product)\n"
   ]
  },
  {
   "cell_type": "code",
   "execution_count": 4,
   "id": "335f1510-93cf-4891-948d-d568a13f5b74",
   "metadata": {},
   "outputs": [
    {
     "name": "stdin",
     "output_type": "stream",
     "text": [
      "Enter the first number:  56\n",
      "Enter the second number:  66\n"
     ]
    },
    {
     "name": "stdout",
     "output_type": "stream",
     "text": [
      "The sum of 56.0 and 66.0 is 122.0\n"
     ]
    }
   ],
   "source": [
    "# Function to add two numbers\n",
    "def add_two_numbers(num1, num2):\n",
    "    return num1 + num2\n",
    "\n",
    "# Getting user input\n",
    "number1 = float(input(\"Enter the first number: \"))\n",
    "number2 = float(input(\"Enter the second number: \"))\n",
    "\n",
    "# Calculating the sum\n",
    "result = add_two_numbers(number1, number2)\n",
    "\n",
    "# Displaying the result\n",
    "print(f\"The sum of {number1} and {number2} is {result}\")\n"
   ]
  },
  {
   "cell_type": "code",
   "execution_count": null,
   "id": "9385b6b0-14c2-4418-ba0c-6c2c4f34d105",
   "metadata": {},
   "outputs": [],
   "source": [
    "num1=input(\"enter first number: \")\n",
    "num2=input(\"enter second number: \")\n",
    "result=num1-num2\n",
    "print(\"result is: \", result)\n"
   ]
  },
  {
   "cell_type": "code",
   "execution_count": null,
   "id": "6f4774b7-807d-45b1-a26e-37b13724c508",
   "metadata": {},
   "outputs": [],
   "source": [
    "num1=input(\"enter first number: \")\n",
    "num2=input(\"enter second number: \")\n",
    "result=num1-num2\n",
    "print(\"result is: \", result)"
   ]
  },
  {
   "cell_type": "code",
   "execution_count": null,
   "id": "1d616fe7-389f-4126-a25c-712e3a30ef1c",
   "metadata": {},
   "outputs": [],
   "source": []
  }
 ],
 "metadata": {
  "kernelspec": {
   "display_name": "Python 3 (ipykernel)",
   "language": "python",
   "name": "python3"
  },
  "language_info": {
   "codemirror_mode": {
    "name": "ipython",
    "version": 3
   },
   "file_extension": ".py",
   "mimetype": "text/x-python",
   "name": "python",
   "nbconvert_exporter": "python",
   "pygments_lexer": "ipython3",
   "version": "3.11.7"
  }
 },
 "nbformat": 4,
 "nbformat_minor": 5
}
