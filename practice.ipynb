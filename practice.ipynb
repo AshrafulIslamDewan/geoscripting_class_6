{
 "cells": [
  {
   "cell_type": "code",
   "execution_count": 1,
   "id": "e0997e8c-9c1d-41a3-bac2-6752e0fa802f",
   "metadata": {},
   "outputs": [
    {
     "name": "stdin",
     "output_type": "stream",
     "text": [
      "Enter the first number:  66\n",
      "Enter the second number:  77\n"
     ]
    },
    {
     "name": "stdout",
     "output_type": "stream",
     "text": [
      "First number: 66.0\n",
      "Second number: 77.0\n",
      "Difference of the two numbers: -11.0\n"
     ]
    }
   ],
   "source": [
    "# Take two numbers from the user\n",
    "num1 = float(input(\"Enter the first number: \"))\n",
    "num2 = float(input(\"Enter the second number: \"))\n",
    "\n",
    "# Print the numbers\n",
    "print(\"First number:\", num1)\n",
    "print(\"Second number:\", num2)\n",
    "\n",
    "# Calculate the difference\n",
    "difference = num1 - num2\n",
    "\n",
    "# Print the difference\n",
    "print(\"Difference of the two numbers:\", difference)\n"
   ]
  },
  {
   "cell_type": "code",
   "execution_count": 2,
   "id": "b588f532-4bdd-4d67-aa31-6af8ee7ddc9f",
   "metadata": {},
   "outputs": [
    {
     "name": "stdin",
     "output_type": "stream",
     "text": [
      "Enter the first number:  98\n",
      "Enter the second number:  67\n"
     ]
    },
    {
     "name": "stdout",
     "output_type": "stream",
     "text": [
      "First number: 98.0\n",
      "Second number: 67.0\n",
      "Sum of the two numbers: 165.0\n"
     ]
    }
   ],
   "source": [
    "# Take two numbers from the user\n",
    "num1 = float(input(\"Enter the first number: \"))\n",
    "num2 = float(input(\"Enter the second number: \"))\n",
    "\n",
    "# Print the numbers\n",
    "print(\"First number:\", num1)\n",
    "print(\"Second number:\", num2)\n",
    "\n",
    "# Calculate the sum\n",
    "sum = num1 + num2\n",
    "\n",
    "# Print the sum\n",
    "print(\"Sum of the two numbers:\", sum)\n"
   ]
  },
  {
   "cell_type": "code",
   "execution_count": 3,
   "id": "a4ddb326-f2a2-4490-9349-6981377df4c0",
   "metadata": {},
   "outputs": [
    {
     "name": "stdin",
     "output_type": "stream",
     "text": [
      "Enter the first number:  67\n",
      "Enter the second number:  66\n"
     ]
    },
    {
     "name": "stdout",
     "output_type": "stream",
     "text": [
      "First number: 67.0\n",
      "Second number: 66.0\n",
      "Multiplicative value of the two numbers: 4422.0\n"
     ]
    }
   ],
   "source": [
    "# Take two numbers from the user\n",
    "num1 = float(input(\"Enter the first number: \"))\n",
    "num2 = float(input(\"Enter the second number: \"))\n",
    "\n",
    "# Print the numbers\n",
    "print(\"First number:\", num1)\n",
    "print(\"Second number:\", num2)\n",
    "\n",
    "# Calculate the product\n",
    "product = num1 * num2\n",
    "\n",
    "# Print the product\n",
    "print(\"Multiplicative value of the two numbers:\", product)\n"
   ]
  },
  {
   "cell_type": "code",
   "execution_count": null,
   "id": "be1cc61f-ee3a-44a4-b2f8-ac8c337a2d2a",
   "metadata": {},
   "outputs": [],
   "source": [
    "num1=float(input(\"enter the first num: \")\n",
    "num2=float(input(\"enter the sec num: \")\n",
    "print(\"first num:\" , num1)\n",
    "print(\"sec num:\" , num2)\n",
    "           "
   ]
  }
 ],
 "metadata": {
  "kernelspec": {
   "display_name": "Python 3 (ipykernel)",
   "language": "python",
   "name": "python3"
  },
  "language_info": {
   "codemirror_mode": {
    "name": "ipython",
    "version": 3
   },
   "file_extension": ".py",
   "mimetype": "text/x-python",
   "name": "python",
   "nbconvert_exporter": "python",
   "pygments_lexer": "ipython3",
   "version": "3.11.7"
  }
 },
 "nbformat": 4,
 "nbformat_minor": 5
}
