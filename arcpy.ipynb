{
 "cells": [
  {
   "cell_type": "code",
   "execution_count": 3,
   "id": "3c5929ac-5806-4d1b-8a4e-0c250e93e94b",
   "metadata": {},
   "outputs": [
    {
     "ename": "ModuleNotFoundError",
     "evalue": "No module named 'arcpy'",
     "output_type": "error",
     "traceback": [
      "\u001b[1;31m---------------------------------------------------------------------------\u001b[0m",
      "\u001b[1;31mModuleNotFoundError\u001b[0m                       Traceback (most recent call last)",
      "Cell \u001b[1;32mIn[3], line 1\u001b[0m\n\u001b[1;32m----> 1\u001b[0m \u001b[38;5;28;01mimport\u001b[39;00m \u001b[38;5;21;01marcpy\u001b[39;00m\n\u001b[0;32m      2\u001b[0m arcpy\u001b[38;5;241m.\u001b[39menv\u001b[38;5;241m.\u001b[39mworkspace \u001b[38;5;241m=\u001b[39m \u001b[38;5;124mr\u001b[39m\u001b[38;5;124m\"\u001b[39m\u001b[38;5;124mC:\u001b[39m\u001b[38;5;124m\\\u001b[39m\u001b[38;5;124mGE\u001b[39m\u001b[38;5;124m\\\u001b[39m\u001b[38;5;124mTest_workspace\u001b[39m\u001b[38;5;124m\"\u001b[39m\n\u001b[0;32m      3\u001b[0m arcpy\u001b[38;5;241m.\u001b[39menv\u001b[38;5;241m.\u001b[39moverwriteOutput \u001b[38;5;241m=\u001b[39m \u001b[38;5;28;01mTrue\u001b[39;00m\n",
      "\u001b[1;31mModuleNotFoundError\u001b[0m: No module named 'arcpy'"
     ]
    }
   ],
   "source": [
    "import arcpy\n",
    "arcpy.env.workspace = r\"C:\\GE\\Test_workspace\"\n",
    "arcpy.env.overwriteOutput = True\n",
    "dem_file = r\"C:\\Users\\JULFIKAR\\Downloads\\rasters_NASADEM\\output_NASADEM.tif\"\n",
    "\n",
    "contour_shapefile = r\"C:\\GE\\Test_workspace\\output\\contour\\contour_lines.shp\"\n",
    "hillshade_output = r\"C:\\GE\\Test_workspace\\output\\hillshade\\hillshade.tif\"\n",
    "\n",
    "def create_contour_lines(dem, output_shapefile, interval):\n",
    "    try:\n",
    "        arcpy.sa.Contour(dem, output_shapefile, interval)\n",
    "        print(\"Contour lines created: {}\".format(output_shapefile))\n",
    "    except Exception as e:\n",
    "        print(\"Error generating contour lines: {}\".format(str(e)))\n",
    "\n",
    "def create_hillshade(dem, output_hillshade):\n",
    "    try:\n",
    "        hillshade = arcpy.sa.Hillshade(dem, azimuth=315, altitude=45)\n",
    "        hillshade.save(output_hillshade)\n",
    "        print(\"Hillshade created: {}\".format(output_hillshade))\n",
    "    except Exception as e:\n",
    "        print(\"Error generating hillshade: {}\".format(str(e)))\n",
    "\n",
    "if _name_ == \"_main_\":\n",
    "    try:\n",
    "        arcpy.CheckOutExtension(\"Spatial\")\n",
    "        contour_interval = 10\n",
    "        create_contour_lines(dem_file, contour_shapefile, contour_interval)\n",
    "        create_hillshade(dem_file, hillshade_output)\n",
    "        arcpy.CheckInExtension(\"Spatial\")\n",
    "    except Exception as main_e:\n",
    "        print(\"An error occurred: {}\".format(str(main_e)))"
   ]
  },
  {
   "cell_type": "code",
   "execution_count": 2,
   "id": "645188b2-386e-4b12-8026-0d9b8d7044a4",
   "metadata": {},
   "outputs": [
    {
     "ename": "NameError",
     "evalue": "name 'arcpy' is not defined",
     "output_type": "error",
     "traceback": [
      "\u001b[1;31m---------------------------------------------------------------------------\u001b[0m",
      "\u001b[1;31mNameError\u001b[0m                                 Traceback (most recent call last)",
      "Cell \u001b[1;32mIn[2], line 1\u001b[0m\n\u001b[1;32m----> 1\u001b[0m arcpy\u001b[38;5;241m.\u001b[39menv\u001b[38;5;241m.\u001b[39mworkspace \u001b[38;5;241m=\u001b[39m \u001b[38;5;124mr\u001b[39m\u001b[38;5;124m\"\u001b[39m\u001b[38;5;124mC:\u001b[39m\u001b[38;5;124m\\\u001b[39m\u001b[38;5;124mGE\u001b[39m\u001b[38;5;124m\\\u001b[39m\u001b[38;5;124mdata\u001b[39m\u001b[38;5;124m\\\u001b[39m\u001b[38;5;124minput\u001b[39m\u001b[38;5;124m\"\u001b[39m\n\u001b[0;32m      2\u001b[0m arcpy\u001b[38;5;241m.\u001b[39menv\u001b[38;5;241m.\u001b[39moverwriteOutput \u001b[38;5;241m=\u001b[39m \u001b[38;5;28;01mTrue\u001b[39;00m\n\u001b[0;32m      4\u001b[0m shapefiles \u001b[38;5;241m=\u001b[39m [shp \u001b[38;5;28;01mfor\u001b[39;00m shp \u001b[38;5;129;01min\u001b[39;00m arcpy\u001b[38;5;241m.\u001b[39mListFeatureClasses() \u001b[38;5;28;01mif\u001b[39;00m shp\u001b[38;5;241m.\u001b[39mendswith(\u001b[38;5;124m'\u001b[39m\u001b[38;5;124m.shp\u001b[39m\u001b[38;5;124m'\u001b[39m)]\n",
      "\u001b[1;31mNameError\u001b[0m: name 'arcpy' is not defined"
     ]
    }
   ],
   "source": [
    "arcpy.env.workspace = r\"C:\\GE\\data\\input\"\n",
    "arcpy.env.overwriteOutput = True\n",
    "\n",
    "shapefiles = [shp for shp in arcpy.ListFeatureClasses() if shp.endswith('.shp')]\n",
    "\n",
    "output_mxd = r\"C:\\GE\\map\\automated_map.mxd\"\n",
    "output_pdf = r\"C:\\GE\\Output_map\\islamicUniversity.pdf\"\n",
    "\n",
    "template_mxd = r\"C:\\GE\\data\\templates\\blank_map.mxd\"\n",
    "mxd = arcpy.mapping.MapDocument(template_mxd)\n",
    "df = arcpy.mapping.ListDataFrames(mxd, \"*\")[0]\n",
    "\n",
    "def add_layer(layer_path, data_frame):\n",
    "    try:\n",
    "        layer = arcpy.mapping.Layer(layer_path)\n",
    "        arcpy.mapping.AddLayer(data_frame, layer, \"TOP\")\n",
    "        print(\"Layer added: {}\".format(os.path.basename(layer_path)))\n",
    "    except Exception as e:\n",
    "        print(\"Failed to add layer {}: {}\".format(os.path.basename(layer_path), str(e)))\n",
    "\n",
    "def apply_labels(layer_name):\n",
    "    try:\n",
    "        layer = arcpy.mapping.ListLayers(mxd, layer_name, df)[0]\n",
    "        layer.showLabels = True\n",
    "        label_class = layer.labelClasses[0]\n",
    "        label_class.expression = \"[NAME]\"  # Change this based on your attribute field for labels\n",
    "        print(\"Labels applied to layer: {}\".format(layer.name))\n",
    "    except Exception as e:\n",
    "        print(\"Failed to apply labels for {}: {}\".format(layer_name, str(e)))\n",
    "\n",
    "for shp in shapefiles:\n",
    "    layer_path = os.path.join(arcpy.env.workspace, shp)\n",
    "    add_layer(layer_path, df)\n",
    "    apply_labels(os.path.basename(shp).replace(\".shp\", \"\"))  # Apply labels based on the layer name\n",
    "\n",
    "try:\n",
    "    arcpy.mapping.ExportToPDF(mxd, output_pdf)\n",
    "    print(\"Map exported to PDF: {}\".format(output_pdf))\n",
    "except Exception as e:\n",
    "    print(\"Failed to export map to PDF: {}\".format(str(e)))\n",
    "\n",
    "try:\n",
    "    mxd.saveACopy(output_mxd)\n",
    "    print(\"Map document saved: {}\".format(output_mxd))\n",
    "except Exception as e:\n",
    "    print(\"Failed to save map document: {}\".format(str(e)))\n",
    "\n",
    "del mxd"
   ]
  },
  {
   "cell_type": "code",
   "execution_count": null,
   "id": "01949dca-d02a-4d13-861d-4404c880e051",
   "metadata": {},
   "outputs": [],
   "source": []
  }
 ],
 "metadata": {
  "kernelspec": {
   "display_name": "Python 3 (ipykernel)",
   "language": "python",
   "name": "python3"
  },
  "language_info": {
   "codemirror_mode": {
    "name": "ipython",
    "version": 3
   },
   "file_extension": ".py",
   "mimetype": "text/x-python",
   "name": "python",
   "nbconvert_exporter": "python",
   "pygments_lexer": "ipython3",
   "version": "3.11.7"
  }
 },
 "nbformat": 4,
 "nbformat_minor": 5
}
